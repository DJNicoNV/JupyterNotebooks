{
 "cells": [
  {
   "cell_type": "code",
   "execution_count": 1,
   "id": "6ccc2a6e",
   "metadata": {},
   "outputs": [
    {
     "name": "stdout",
     "output_type": "stream",
     "text": [
      "Odor-based model accuracy: 0.9846\n",
      "Cap-color-based model accuracy: 0.5969\n"
     ]
    },
    {
     "data": {
      "image/png": "[encoded data removed]",
      "text/plain": [
       "<Figure size 640x480 with 1 Axes>"
      ]
     },
     "metadata": {},
     "output_type": "display_data"
    },
    {
     "name": "stdout",
     "output_type": "stream",
     "text": [
      "Conclusion:\n",
      "Odor is a stronger predictor of mushroom edibility than cap color.\n"
     ]
    }
   ],
   "source": [
    "# Mushroom Dataset using scikit-learn\n",
    "\n",
    "import pandas as pd\n",
    "from sklearn.linear_model import LogisticRegression\n",
    "from sklearn.model_selection import train_test_split\n",
    "from sklearn.metrics import accuracy_score\n",
    "import matplotlib.pyplot as plt\n",
    "\n",
    "# Load dataset\n",
    "url = \"https://archive.ics.uci.edu/ml/machine-learning-databases/mushroom/agaricus-lepiota.data\"\n",
    "column_names = [\n",
    "    \"class\", \"cap-shape\", \"cap-surface\", \"cap-color\", \"bruises\", \"odor\", \n",
    "    \"gill-attachment\", \"gill-spacing\", \"gill-size\", \"gill-color\", \n",
    "    \"stalk-shape\", \"stalk-root\", \"stalk-surface-above-ring\", \"stalk-surface-below-ring\", \n",
    "    \"stalk-color-above-ring\", \"stalk-color-below-ring\", \"veil-type\", \"veil-color\", \n",
    "    \"ring-number\", \"ring-type\", \"spore-print-color\", \"population\", \"habitat\"\n",
    "]\n",
    "df = pd.read_csv(url, header=None, names=column_names)\n",
    "\n",
    "# Select and preprocess relevant columns\n",
    "df_subset = df[[\"class\", \"odor\", \"cap-color\"]].copy()\n",
    "\n",
    "label_map = {'e': 0, 'p': 1}\n",
    "df_subset['class'] = df_subset['class'].map(label_map)\n",
    "\n",
    "# Prepare predictors and target\n",
    "y = df_subset['class']\n",
    "\n",
    "# Model 1: Odor only\n",
    "X_odor = pd.get_dummies(df_subset[['odor']])\n",
    "X_train_odor, X_test_odor, y_train, y_test = train_test_split(X_odor, y, test_size=0.2, random_state=42)\n",
    "model_odor = LogisticRegression(max_iter=200)\n",
    "model_odor.fit(X_train_odor, y_train)\n",
    "pred_odor = model_odor.predict(X_test_odor)\n",
    "accuracy_odor = accuracy_score(y_test, pred_odor)\n",
    "\n",
    "# Model 2: Cap-color only\n",
    "X_color = pd.get_dummies(df_subset[['cap-color']])\n",
    "X_train_color, X_test_color, _, _ = train_test_split(X_color, y, test_size=0.2, random_state=42)\n",
    "model_color = LogisticRegression(max_iter=200)\n",
    "model_color.fit(X_train_color, y_train)\n",
    "pred_color = model_color.predict(X_test_color)\n",
    "accuracy_color = accuracy_score(y_test, pred_color)\n",
    "\n",
    "# Results\n",
    "print(f\"Odor-based model accuracy: {accuracy_odor:.4f}\")\n",
    "print(f\"Cap-color-based model accuracy: {accuracy_color:.4f}\")\n",
    "\n",
    "# Plot for comparison\n",
    "plt.bar([\"Odor\", \"Cap Color\"], [accuracy_odor, accuracy_color], color=[\"skyblue\", \"salmon\"])\n",
    "plt.title(\"Prediction Accuracy by Feature\")\n",
    "plt.ylabel(\"Accuracy\")\n",
    "plt.ylim(0, 1)\n",
    "plt.show()\n",
    "\n",
    "# Conclusion\n",
    "print(\"Conclusion:\")\n",
    "if accuracy_odor > accuracy_color:\n",
    "    print(\"Odor is a stronger predictor of mushroom edibility than cap color.\")\n",
    "elif accuracy_color > accuracy_odor:\n",
    "    print(\"Cap color is a stronger predictor of mushroom edibility than odor.\")\n",
    "else:\n",
    "    print(\"Both odor and cap color perform equally in predicting mushroom edibility.\")\n"
   ]
  },
  {
   "cell_type": "code",
   "execution_count": null,
   "id": "de0d0c4d-f832-4ecc-96a9-2f0285f74ec9",
   "metadata": {},
   "outputs": [],
   "source": []
  }
 ],
 "metadata": {
  "kernelspec": {
   "display_name": "Python 3 (ipykernel)",
   "language": "python",
   "name": "python3"
  },
  "language_info": {
   "codemirror_mode": {
    "name": "ipython",
    "version": 3
   },
   "file_extension": ".py",
   "mimetype": "text/x-python",
   "name": "python",
   "nbconvert_exporter": "python",
   "pygments_lexer": "ipython3",
   "version": "3.12.9"
  }
 },
 "nbformat": 4,
 "nbformat_minor": 5
}
