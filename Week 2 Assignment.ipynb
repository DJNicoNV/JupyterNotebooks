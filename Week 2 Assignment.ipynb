{
 "cells": [
  {
   "cell_type": "code",
   "execution_count": 2,
   "id": "08e904ce-bd28-48a4-bca8-d1d431863f2a",
   "metadata": {},
   "outputs": [
    {
     "name": "stdout",
     "output_type": "stream",
     "text": [
      "Initial Set: {1, 2, 3, 4, 5}\n",
      "After Adding 6: {1, 2, 3, 4, 5, 6}\n",
      "After Discarding 3: {1, 2, 4, 5, 6}\n",
      "Union: {1, 2, 3, 4, 5, 6}\n",
      "Intersection: {3, 4}\n",
      "Difference: {1, 2}\n",
      "Symmetric Difference: {1, 2, 5, 6}\n",
      "Initial Dictionary: {'name': 'Nicholas', 'age': 25, 'city': 'New York'}\n",
      "Name: Nicholas\n",
      "Updated Dictionary: {'name': 'Nicholas', 'age': 28, 'city': 'New York', 'job': 'Engineer'}\n",
      "After Removing 'city': {'name': 'Nicholas', 'age': 28, 'job': 'Engineer'}\n",
      "Keys: dict_keys(['name', 'age', 'job'])\n",
      "Values: dict_values(['Nicholas', 28, 'Engineer'])\n",
      "Items: dict_items([('name', 'Nicholas'), ('age', 28), ('job', 'Engineer')])\n"
     ]
    },
    {
     "data": {
      "text/plain": [
       "'\\n## Summary\\n\\n- **Sets** are useful for storing unique items and performing mathematical set operations.\\n- **Dictionaries** provide efficient key-value storage and retrieval.\\n'"
      ]
     },
     "execution_count": 2,
     "metadata": {},
     "output_type": "execute_result"
    }
   ],
   "source": [
    "### Sets and Dictionaries in Python\n",
    "\n",
    "# Introduction (Markdown)\n",
    "\"\"\"\n",
    "## Understanding Sets and Dictionaries in Python\n",
    "\n",
    "Sets and dictionaries are two fundamental data structures in Python.\n",
    "- **Sets**: Unordered collections of unique elements.\n",
    "- **Dictionaries**: Key-value pairs for fast lookups.\n",
    "\"\"\"\n",
    "\n",
    "# Working with Sets\n",
    "# Creating a set\n",
    "my_set = {1, 2, 3, 4, 5}\n",
    "print(\"Initial Set:\", my_set)\n",
    "\n",
    "# Adding elements\n",
    "my_set.add(6)\n",
    "print(\"After Adding 6:\", my_set)\n",
    "\n",
    "# Removing elements\n",
    "my_set.discard(3)  # Removes 3 if it exists\n",
    "print(\"After Discarding 3:\", my_set)\n",
    "\n",
    "# Set Operations\n",
    "A = {1, 2, 3, 4}\n",
    "B = {3, 4, 5, 6}\n",
    "print(\"Union:\", A | B)  # Union of sets\n",
    "print(\"Intersection:\", A & B)  # Intersection\n",
    "print(\"Difference:\", A - B)  # Difference\n",
    "print(\"Symmetric Difference:\", A ^ B)  # Elements in either A or B but not both\n",
    "\n",
    "# Working with Dictionaries\n",
    "# Creating a dictionary\n",
    "my_dict = {\"name\": \"Nicholas\", \"age\": 25, \"city\": \"New York\"}\n",
    "print(\"Initial Dictionary:\", my_dict)\n",
    "\n",
    "# Accessing values\n",
    "print(\"Name:\", my_dict[\"name\"])\n",
    "\n",
    "# Adding and updating values\n",
    "my_dict[\"age\"] = 28  # Update age\n",
    "my_dict[\"job\"] = \"Engineer\"  # Add new key-value pair\n",
    "print(\"Updated Dictionary:\", my_dict)\n",
    "\n",
    "# Removing a key\n",
    "my_dict.pop(\"city\")\n",
    "print(\"After Removing 'city':\", my_dict)\n",
    "\n",
    "# Dictionary Methods\n",
    "keys = my_dict.keys()\n",
    "values = my_dict.values()\n",
    "items = my_dict.items()\n",
    "print(\"Keys:\", keys)\n",
    "print(\"Values:\", values)\n",
    "print(\"Items:\", items)\n",
    "\n",
    "# Conclusion (Markdown)\n",
    "\"\"\"\n",
    "## Summary\n",
    "\n",
    "- **Sets** are useful for storing unique items and performing mathematical set operations.\n",
    "- **Dictionaries** provide efficient key-value storage and retrieval.\n",
    "\"\"\"\n"
   ]
  },
  {
   "cell_type": "code",
   "execution_count": null,
   "id": "e04e8c86-07ae-468e-9383-2771939e322a",
   "metadata": {},
   "outputs": [],
   "source": []
  }
 ],
 "metadata": {
  "kernelspec": {
   "display_name": "Python 3 (ipykernel)",
   "language": "python",
   "name": "python3"
  },
  "language_info": {
   "codemirror_mode": {
    "name": "ipython",
    "version": 3
   },
   "file_extension": ".py",
   "mimetype": "text/x-python",
   "name": "python",
   "nbconvert_exporter": "python",
   "pygments_lexer": "ipython3",
   "version": "3.13.1"
  }
 },
 "nbformat": 4,
 "nbformat_minor": 5
}
