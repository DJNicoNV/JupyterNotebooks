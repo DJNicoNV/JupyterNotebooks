{
 "cells": [
  {
   "cell_type": "code",
   "execution_count": 1,
   "id": "214ffe1f-782d-4ca9-a152-d92d7969166a",
   "metadata": {},
   "outputs": [
    {
     "name": "stdout",
     "output_type": "stream",
     "text": [
      "Original Movie Ratings:\n",
      "                                 John  Michael  Scott  Carina  Michelle\n",
      "Captain America Brave New World   4.0      5.0    4.0     2.0       4.0\n",
      "Nosferatu                         NaN      4.0    NaN     NaN       NaN\n",
      "Love Hurts                        3.0      NaN    1.0     4.0       3.0\n",
      "You're Cordially Invited          4.0      3.0    4.0     3.0       3.0\n",
      "Flight Risk                       4.0      4.0    NaN     3.0       NaN\n",
      "Back in Action                    NaN      2.0    2.0     NaN       NaN\n",
      "\n",
      "Average Ratings Per User:\n",
      "John        3.750000\n",
      "Michael     3.600000\n",
      "Scott       2.750000\n",
      "Carina      3.000000\n",
      "Michelle    3.333333\n",
      "dtype: float64\n",
      "\n",
      "Average Ratings Per Movie:\n",
      "Captain America Brave New World    3.800000\n",
      "Nosferatu                          4.000000\n",
      "Love Hurts                         2.750000\n",
      "You're Cordially Invited           3.400000\n",
      "Flight Risk                        3.666667\n",
      "Back in Action                     2.000000\n",
      "dtype: float64\n",
      "\n",
      "Normalized Ratings:\n",
      "                                 John   Michael     Scott  Carina  Michelle\n",
      "Captain America Brave New World   1.0  1.000000  1.000000     0.0       1.0\n",
      "Nosferatu                         NaN  0.666667       NaN     NaN       NaN\n",
      "Love Hurts                        0.0       NaN  0.000000     1.0       0.0\n",
      "You're Cordially Invited          1.0  0.333333  1.000000     0.5       0.0\n",
      "Flight Risk                       1.0  0.666667       NaN     0.5       NaN\n",
      "Back in Action                    NaN  0.000000  0.333333     NaN       NaN\n",
      "\n",
      "Standardized Ratings:\n",
      "                                 John   Michael     Scott    Carina  Michelle\n",
      "Captain America Brave New World   0.5  1.227881  0.833333 -1.224745  1.154701\n",
      "Nosferatu                         NaN  0.350823       NaN       NaN       NaN\n",
      "Love Hurts                       -1.5       NaN -1.166667  1.224745 -0.577350\n",
      "You're Cordially Invited          0.5 -0.526235  0.833333  0.000000 -0.577350\n",
      "Flight Risk                       0.5  0.350823       NaN  0.000000       NaN\n",
      "Back in Action                    NaN -1.403293 -0.500000       NaN       NaN\n"
     ]
    }
   ],
   "source": [
    "import pandas as pd\n",
    "import numpy as np\n",
    "\n",
    "# Load ratings from a CSV file\n",
    "df = pd.read_csv(\"movie_ratings.csv\", index_col=0)\n",
    "\n",
    "# Define users\n",
    "users = df.columns.tolist()\n",
    "\n",
    "# Replace 0s (indicating not seen) with NaN for proper calculations\n",
    "df.replace(0, np.nan, inplace=True)\n",
    "\n",
    "# Calculate average ratings per user and per movie\n",
    "average_per_user = df.mean()\n",
    "average_per_movie = df.mean(axis=1)\n",
    "\n",
    "# Normalize ratings (min-max scaling per user)\n",
    "normalized_df = df.copy()\n",
    "for user in users:\n",
    "    min_rating = df[user].min(skipna=True)\n",
    "    max_rating = df[user].max(skipna=True)\n",
    "    if min_rating != max_rating:\n",
    "        normalized_df[user] = (df[user] - min_rating) / (max_rating - min_rating)\n",
    "    else:\n",
    "        normalized_df[user] = df[user]\n",
    "\n",
    "# Standardize ratings (z-score per user)\n",
    "standardized_df = df.copy()\n",
    "for user in users:\n",
    "    mean_rating = df[user].mean(skipna=True)\n",
    "    std_rating = df[user].std(skipna=True)\n",
    "    if std_rating != 0:\n",
    "        standardized_df[user] = (df[user] - mean_rating) / std_rating\n",
    "    else:\n",
    "        standardized_df[user] = df[user]\n",
    "\n",
    "# Display results\n",
    "print(\"Original Movie Ratings:\")\n",
    "print(df)\n",
    "print(\"\\nAverage Ratings Per User:\")\n",
    "print(average_per_user)\n",
    "print(\"\\nAverage Ratings Per Movie:\")\n",
    "print(average_per_movie)\n",
    "print(\"\\nNormalized Ratings:\")\n",
    "print(normalized_df)\n",
    "print(\"\\nStandardized Ratings:\")\n",
    "print(standardized_df)\n"
   ]
  },
  {
   "cell_type": "code",
   "execution_count": 3,
   "id": "98d34d47-66fd-4d01-9016-b11d570c7ee9",
   "metadata": {},
   "outputs": [
    {
     "ename": "SyntaxError",
     "evalue": "invalid decimal literal (2437268687.py, line 8)",
     "output_type": "error",
     "traceback": [
      "\u001b[1;36m  Cell \u001b[1;32mIn[3], line 8\u001b[1;36m\u001b[0m\n\u001b[1;33m    1. **Loses Absolute Preference Information:** If a user only rates movies they love (e.g., giving only 4s and 5s), normalization forces these ratings to a full scale (0 to 1), misrepresenting their preferences.\u001b[0m\n\u001b[1;37m                                                                                                           ^\u001b[0m\n\u001b[1;31mSyntaxError\u001b[0m\u001b[1;31m:\u001b[0m invalid decimal literal\n"
     ]
    }
   ],
   "source": [
    "Using **normalized ratings** instead of actual ratings has both advantages and disadvantages.\n",
    "\n",
    "#### **Advantages of Normalization:**\n",
    "1. **Eliminates Bias from Individual Rating Scales:** Some users may consistently give high or low ratings. Normalization ensures that each users ratings are scaled comparably, preventing bias from affecting recommendations.\n",
    "2. **Enables Fair Comparisons:** Since different users may use different portions of the rating scale, normalization brings all ratings to a common scale, making it easier to compare preferences across users.\n",
    "\n",
    "#### **Disadvantages of Normalization:**\n",
    "1. **Loses Absolute Preference Information:** If a user only rates movies they love (e.g., giving only 4s and 5s), normalization forces these ratings to a full scale (0 to 1), misrepresenting their preferences.\n",
    "2. **Can Introduce Artificial Differences:** Users with little variance in their ratings may see artificial exaggeration in their scaled ratings, making small differences appear more significant than they are.\n",
    "\n",
    "While normalization is useful for certain analytical and predictive tasks, it should be applied carefully, considering the data context and the goals of the recommendation system."
   ]
  },
  {
   "cell_type": "code",
   "execution_count": null,
   "id": "c9854b27-7f06-408b-a613-eefd2e9ed6db",
   "metadata": {},
   "outputs": [],
   "source": []
  }
 ],
 "metadata": {
  "kernelspec": {
   "display_name": "Python 3 (ipykernel)",
   "language": "python",
   "name": "python3"
  },
  "language_info": {
   "codemirror_mode": {
    "name": "ipython",
    "version": 3
   },
   "file_extension": ".py",
   "mimetype": "text/x-python",
   "name": "python",
   "nbconvert_exporter": "python",
   "pygments_lexer": "ipython3",
   "version": "3.12.9"
  }
 },
 "nbformat": 4,
 "nbformat_minor": 5
}
