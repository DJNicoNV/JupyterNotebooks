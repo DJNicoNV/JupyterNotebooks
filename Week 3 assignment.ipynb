{
 "cells": [
  {
   "cell_type": "code",
   "execution_count": 6,
   "id": "eff98de8-26da-4283-bdcc-e5cda72bca2b",
   "metadata": {},
   "outputs": [
    {
     "name": "stdout",
     "output_type": "stream",
     "text": [
      "Miles each day:\n",
      "0      0\n",
      "1     55\n",
      "2     65\n",
      "3     70\n",
      "4     70\n",
      "5     80\n",
      "6     70\n",
      "7     70\n",
      "8     70\n",
      "9     70\n",
      "10    70\n",
      "dtype: int64\n"
     ]
    }
   ],
   "source": [
    "# Import pandas as pd and numpy as np\n",
    "\n",
    "import pandas as pd\n",
    "\n",
    "import numpy as np\n",
    "\n",
    "# Create a numpy array, which will store the cumulative miles\n",
    "# Extra numbers added for more data\n",
    "\n",
    "cum_miles = np.array([0, 55, 120, 190, 260, 340, 410, 480, 550, 620, 690])\n",
    "\n",
    "# Convert numpy array into panda series\n",
    "\n",
    "cum_series = pd.Series(cum_miles)\n",
    "\n",
    "# Now create another array to store the miles covered each day\n",
    "\n",
    "each_Day = np.array([cum_series[0]])\n",
    "\n",
    "# Iterate the series\n",
    "\n",
    "for i in range(1, len(cum_series)):\n",
    "\n",
    "    each_Day = np.append(each_Day, cum_series[i]-cum_series[i-1])\n",
    "\n",
    "# Finally convert the new array into series and display it\n",
    "\n",
    "print(\"Miles each day:\")\n",
    "\n",
    "print(pd.Series(each_Day))"
   ]
  },
  {
   "cell_type": "code",
   "execution_count": null,
   "id": "c95ac66f-5993-4d49-9d31-3b1ca04fa53b",
   "metadata": {},
   "outputs": [],
   "source": []
  }
 ],
 "metadata": {
  "kernelspec": {
   "display_name": "Python 3 (ipykernel)",
   "language": "python",
   "name": "python3"
  },
  "language_info": {
   "codemirror_mode": {
    "name": "ipython",
    "version": 3
   },
   "file_extension": ".py",
   "mimetype": "text/x-python",
   "name": "python",
   "nbconvert_exporter": "python",
   "pygments_lexer": "ipython3",
   "version": "3.12.9"
  }
 },
 "nbformat": 4,
 "nbformat_minor": 5
}
