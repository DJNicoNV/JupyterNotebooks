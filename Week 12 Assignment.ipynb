{
 "cells": [
  {
   "cell_type": "code",
   "execution_count": 4,
   "id": "b0188ec9-11c2-436e-8923-97195a15891b",
   "metadata": {},
   "outputs": [
    {
     "name": "stdout",
     "output_type": "stream",
     "text": [
      "  section                                              title  \\\n",
      "0      us  ‘Utter Chaos’: Witnesses Recall Deadly Shootin...   \n",
      "1      us  A Life ‘Shattered’: A Minnesota Man Who Lost H...   \n",
      "2      us  Spain, a NATO member, increases military spend...   \n",
      "3      us  Richard Branson Criticizes Trump’s ‘Erratic’ T...   \n",
      "4      us  Durbin, No. 2 Senate Democrat, to Retire After...   \n",
      "\n",
      "                               byline             published_date  \\\n",
      "0                     By Julie Bosman  2025-04-23T15:52:41-04:00   \n",
      "1                  By Ernesto Londoño  2025-04-23T15:41:53-04:00   \n",
      "2  By Lynsey Chutel and José Bautista  2025-04-23T13:53:24-04:00   \n",
      "3                   By Stephen Castle  2025-04-23T13:26:39-04:00   \n",
      "4                       By Carl Hulse  2025-04-23T11:15:06-04:00   \n",
      "\n",
      "                                                 url  \n",
      "0  https://www.nytimes.com/2025/04/23/us/highland...  \n",
      "1  https://www.nytimes.com/2025/04/23/us/minnesot...  \n",
      "2  https://www.nytimes.com/live/2025/04/23/us/tru...  \n",
      "3  https://www.nytimes.com/2025/04/23/us/politics...  \n",
      "4  https://www.nytimes.com/2025/04/23/us/politics...  \n"
     ]
    }
   ],
   "source": [
    "import requests\n",
    "import pandas as pd\n",
    "\n",
    "# Replace with your actual API key\n",
    "API_KEY = 'MORy4YMvShw12hSzNfn249fPnDbzIcxY'\n",
    "URL = f'https://api.nytimes.com/svc/topstories/v2/us.json?api-key={API_KEY}'\n",
    "\n",
    "# Fetch data\n",
    "response = requests.get(URL)\n",
    "data = response.json()\n",
    "\n",
    "# Convert to DataFrame\n",
    "articles = data['results']\n",
    "df = pd.DataFrame(articles)\n",
    "\n",
    "# Display selected columns\n",
    "print(df[['section', 'title', 'byline', 'published_date', 'url']].head())\n"
   ]
  },
  {
   "cell_type": "code",
   "execution_count": null,
   "id": "0fe306a9-5859-4d64-bfb7-2a9d4fcc4223",
   "metadata": {},
   "outputs": [],
   "source": []
  }
 ],
 "metadata": {
  "kernelspec": {
   "display_name": "Python 3 (ipykernel)",
   "language": "python",
   "name": "python3"
  },
  "language_info": {
   "codemirror_mode": {
    "name": "ipython",
    "version": 3
   },
   "file_extension": ".py",
   "mimetype": "text/x-python",
   "name": "python",
   "nbconvert_exporter": "python",
   "pygments_lexer": "ipython3",
   "version": "3.12.9"
  }
 },
 "nbformat": 4,
 "nbformat_minor": 5
}
