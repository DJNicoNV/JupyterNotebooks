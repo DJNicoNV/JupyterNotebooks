{
 "cells": [
  {
   "cell_type": "code",
   "execution_count": 2,
   "id": "4399fa7d-0751-46fc-a9d4-0e023d9514c5",
   "metadata": {},
   "outputs": [
    {
     "name": "stdout",
     "output_type": "stream",
     "text": [
      "Airline Delay Data:\n",
      "   Airline   Status  Los Angeles  Phoenix  San Diego  San Francisco  Seattle\n",
      "0   ALASKA  On Time          497      221        212            503     1841\n",
      "1   ALASKA  Delayed           62       12         20            102      305\n",
      "2  AM WEST  On Time          694     4840        383            320      201\n",
      "3  AM WEST  Delayed          117      415         65            129       61\n",
      "\n",
      "Percentage of Delayed Flights:\n",
      "                 Los Angeles    Phoenix  San Diego  San Francisco    Seattle\n",
      "Airline Status                                                              \n",
      "ALASKA  Delayed    11.091234   5.150215   8.620690      16.859504  14.212488\n",
      "        On Time    88.908766  94.849785  91.379310      83.140496  85.787512\n",
      "AM WEST Delayed    14.426634   7.897241  14.508929      28.730512  23.282443\n",
      "        On Time    85.573366  92.102759  85.491071      71.269488  76.717557\n"
     ]
    }
   ],
   "source": [
    "import csv\n",
    "import pandas as pd\n",
    "\n",
    "# Create a dictionary with the data\n",
    "data = {\n",
    "    \"Airline\": [\"ALASKA\", \"ALASKA\", \"AM WEST\", \"AM WEST\"],\n",
    "    \"Status\": [\"On Time\", \"Delayed\", \"On Time\", \"Delayed\"],\n",
    "    \"Los Angeles\": [497, 62, 694, 117],\n",
    "    \"Phoenix\": [221, 12, 4840, 415],\n",
    "    \"San Diego\": [212, 20, 383, 65],\n",
    "    \"San Francisco\": [503, 102, 320, 129],\n",
    "    \"Seattle\": [1841, 305, 201, 61]\n",
    "}\n",
    "\n",
    "# Create a DataFrame\n",
    "df = pd.DataFrame(data)\n",
    "\n",
    "# Save to a CSV file\n",
    "df.to_csv(\"airline_delays.csv\", index=False)\n",
    "\n",
    "# Load the CSV file\n",
    "loaded_df = pd.read_csv(\"airline_delays.csv\")\n",
    "\n",
    "# Display the DataFrame\n",
    "print(\"Airline Delay Data:\")\n",
    "print(loaded_df)\n",
    "\n",
    "# Analysis: Calculate percentage of delayed flights per airline\n",
    "summary = loaded_df.groupby([\"Airline\", \"Status\"]).sum(numeric_only=True)\n",
    "summary_percentage = summary.div(summary.groupby(level=0).sum()) * 100\n",
    "\n",
    "# Display the percentage summary\n",
    "print(\"\\nPercentage of Delayed Flights:\")\n",
    "print(summary_percentage)"
   ]
  },
  {
   "cell_type": "code",
   "execution_count": null,
   "id": "2beff16b-00e5-46a8-827f-7d29ead09c72",
   "metadata": {},
   "outputs": [],
   "source": []
  }
 ],
 "metadata": {
  "kernelspec": {
   "display_name": "Python 3 (ipykernel)",
   "language": "python",
   "name": "python3"
  },
  "language_info": {
   "codemirror_mode": {
    "name": "ipython",
    "version": 3
   },
   "file_extension": ".py",
   "mimetype": "text/x-python",
   "name": "python",
   "nbconvert_exporter": "python",
   "pygments_lexer": "ipython3",
   "version": "3.12.9"
  }
 },
 "nbformat": 4,
 "nbformat_minor": 5
}
